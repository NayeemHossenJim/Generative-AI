{
 "cells": [
  {
   "cell_type": "code",
   "execution_count": 1,
   "id": "0d472956",
   "metadata": {},
   "outputs": [],
   "source": [
    "from langchain_community.retrievers import WikipediaRetriever"
   ]
  },
  {
   "cell_type": "code",
   "execution_count": 3,
   "id": "7eb6fbdb",
   "metadata": {},
   "outputs": [],
   "source": [
    "retriever = WikipediaRetriever(top_k_results=2, lang=\"en\")"
   ]
  },
  {
   "cell_type": "code",
   "execution_count": 6,
   "id": "8c52e3a2",
   "metadata": {},
   "outputs": [],
   "source": [
    "query = \"the geopolitical history of bangladesh and india war from the perspective of a chinese\"\n",
    "\n",
    "docs = retriever.invoke(query)"
   ]
  },
  {
   "cell_type": "code",
   "execution_count": 7,
   "id": "782443be",
   "metadata": {},
   "outputs": [
    {
     "data": {
      "text/plain": [
       "[Document(metadata={'title': 'History of Bangladesh', 'summary': \"The history of Bangladesh dates back over four millennia to the Chalcolithic period. The region's early history was characterized by a succession of Hindu and Buddhist kingdoms and empires that fought for control over the Bengal region. Islam arrived in the 8th century and gradually became dominant from the early 13th century with conquests led by Bakhtiyar Khalji and the activities of Sunni missionaries like Shah Jalal. Muslim rulers promoted the spread of Islam by building mosques across the region. From the 14th century onward, Bengal was ruled by the Bengal Sultanate, founded by Fakhruddin Mubarak Shah, who established an individual currency. The Bengal Sultanate expanded under rulers like Shamsuddin Ilyas Shah, leading to economic prosperity and military dominance, with Bengal being referred to by Europeans as the richest country to trade with. The region later became a part of the Mughal Empire, and according to historian C. A. Bayly, it was probably the empire's wealthiest province.\\nFollowing the decline of the Mughal Empire in the early 1700s, Bengal became a semi-independent state under the Nawabs of Bengal, ultimately led by Siraj ud-Daulah. It was later conquered by the British East India Company after the Battle of Plassey in 1757. Bengal played a crucial role in the Industrial Revolution in Britain, but also faced significant deindustrialization. The Bengal Presidency was established during British rule.\\nThe borders of modern Bangladesh were established with the partition of Bengal between India and Pakistan during the Partition of India in August 1947, when the region became East Pakistan as part of the newly formed State of Pakistan following the end of the British rule in the region. The Proclamation of Bangladeshi Independence in March 1971 led to the nine-month-long Bangladesh Liberation War, which culminated in the emergence of the People's Republic of Bangladesh. Independence was declared in 1971.\\nSince gaining independence, Bangladesh has faced political instability, economic reconstruction, and social transformation. The country experienced military coups and authoritarian rule, notably under General Ziaur Rahman and General Hussain Muhammad Ershad. The restoration of parliamentary democracy in the 1990s saw power alternate between the Awami League, and the Bangladesh Nationalist Party. In recent decades, Bangladesh has achieved significant economic growth, emerging as one of the world's fastest-growing economies, driven by its garment industry, remittances, and infrastructure development. However, it continues to grapple with political instability, human rights issues, and the impact of climate change. The return of the Awami League to power in 2009 under Sheikh Hasina's leadership saw economic progress but criticisms of authoritarianism. Bangladesh has played a critical role in addressing regional issues, including the Rohingya refugee crisis, which has strained its resources and highlighted its humanitarian commitments.\", 'source': 'https://en.wikipedia.org/wiki/History_of_Bangladesh'}, page_content=\"The history of Bangladesh dates back over four millennia to the Chalcolithic period. The region's early history was characterized by a succession of Hindu and Buddhist kingdoms and empires that fought for control over the Bengal region. Islam arrived in the 8th century and gradually became dominant from the early 13th century with conquests led by Bakhtiyar Khalji and the activities of Sunni missionaries like Shah Jalal. Muslim rulers promoted the spread of Islam by building mosques across the region. From the 14th century onward, Bengal was ruled by the Bengal Sultanate, founded by Fakhruddin Mubarak Shah, who established an individual currency. The Bengal Sultanate expanded under rulers like Shamsuddin Ilyas Shah, leading to economic prosperity and military dominance, with Bengal being referred to by Europeans as the richest country to trade with. The region later became a part of the Mughal Empire, and according to historian C. A. Bayly, it was probably the empire's wealthiest province.\\nFollowing the decline of the Mughal Empire in the early 1700s, Bengal became a semi-independent state under the Nawabs of Bengal, ultimately led by Siraj ud-Daulah. It was later conquered by the British East India Company after the Battle of Plassey in 1757. Bengal played a crucial role in the Industrial Revolution in Britain, but also faced significant deindustrialization. The Bengal Presidency was established during British rule.\\nThe borders of modern Bangladesh were established with the partition of Bengal between India and Pakistan during the Partition of India in August 1947, when the region became East Pakistan as part of the newly formed State of Pakistan following the end of the British rule in the region. The Proclamation of Bangladeshi Independence in March 1971 led to the nine-month-long Bangladesh Liberation War, which culminated in the emergence of the People's Republic of Bangladesh. Independence was declared in 1971.\\nSince gaining independence, Bangladesh has faced political instability, economic reconstruction, and social transformation. The country experienced military coups and authoritarian rule, notably under General Ziaur Rahman and General Hussain Muhammad Ershad. The restoration of parliamentary democracy in the 1990s saw power alternate between the Awami League, and the Bangladesh Nationalist Party. In recent decades, Bangladesh has achieved significant economic growth, emerging as one of the world's fastest-growing economies, driven by its garment industry, remittances, and infrastructure development. However, it continues to grapple with political instability, human rights issues, and the impact of climate change. The return of the Awami League to power in 2009 under Sheikh Hasina's leadership saw economic progress but criticisms of authoritarianism. Bangladesh has played a critical role in addressing regional issues, including the Rohingya refugee crisis, which has strained its resources and highlighted its humanitarian commitments.\\n\\n\\n== Ancient period ==\\n\\n\\n=== Prehistoric Bengal ===\\n\\nIt is believed that there were movements of Indo-Aryans, Dravidians and Mongoloids, including a people called Vanga, into Bengal.  There is weak evidence for a prehistoric human presence in the region. There is scant evidence of a human presence during the Neolithic and Chalcolithic eras. This could be because of the shifts in the rivers' courses. The Bengali climate and geography is not suitable for tangible archaeological remains. Due to lack of stones the early humans in Bengal probably used materials such as wood and bamboo that could not survive in the environment. South Asian archaeologists have tended to focus on other parts of the subcontinent. Archaeologists interested in Bengal have focused on more recent history.\\nWest Bengal holds the earliest evidence of settled agrarian societies.\\nAgricultural success gave ground in the fifth century BCE for a stationary culture and the emergence of towns, cross-sea trade and the earliest\"),\n",
       " Document(metadata={'title': 'Bangladesh Liberation War', 'summary': \"The Bangladesh Liberation War (Bengali: মুক্তিযুদ্ধ, pronounced [mukt̪iɟud̪d̪ʱo]), also known as the Bangladesh War of Independence, was an armed conflict sparked by the rise of the Bengali nationalist and self-determination movement in East Pakistan, which resulted in the independence of Bangladesh. The war began when the Pakistani military junta based in West Pakistan—under the orders of Yahya Khan—launched Operation Searchlight against East Pakistanis on the night of 25 March 1971, initiating the Bangladesh genocide.\\nIn response to the violence, members of the Mukti Bahini—a guerrilla resistance movement formed by Bengali military, paramilitary and civilians—launched a mass guerrilla war against the Pakistani military, liberating numerous towns and cities in the war's initial months. At first, the Pakistan Army regained momentum during the monsoon, but Bengali guerrillas counterattacked by carrying out widespread sabotage, including through Operation Jackpot against the Pakistan Navy, while the nascent Bangladesh Air Force flew sorties against Pakistani military bases. India joined the war on 3 December 1971 in support of the Mukti Bahini, after Pakistan launched preemptive air strikes on northern India. The subsequent Indo-Pakistani War involved fighting on two fronts; with air supremacy achieved in the eastern theater and the rapid advance of the Allied Forces of Mukti Bahini and the Indian military, Pakistan surrendered in Dhaka on 16 December 1971, in what remains to date the largest surrender of armed personnel since the Second World War.\\nRural and urban areas across East Pakistan saw extensive military operations and air strikes to suppress the tide of civil disobedience that formed after the 1970 election stalemate. The Pakistan Army, backed by Islamists, created radical religious militias—the Razakars, Al-Badr and Al-Shams—to assist it during raids on the local populace. Members of the Pakistani military and supporting militias engaged in mass murder, deportation and genocidal rape, pursuing a systematic campaign of annihilation against nationalist Bengali civilians, students, intelligentsia, religious minorities and armed personnel. The capital, Dhaka, was the scene of numerous massacres, including the Dhaka University massacre. Sectarian violence also broke out between Bengalis and Urdu-speaking Biharis. An estimated 10 million Bengali refugees fled to neighboring India, while 30 million were internally displaced.\\nThe war changed the geopolitical landscape of South Asia, with the emergence of Bangladesh as the world's seventh-most populous country. Due to complex regional alliances, the war was a major episode in Cold War tensions involving the United States, the Soviet Union and China. The majority of member states in the United Nations recognized Bangladesh as a sovereign nation in 1972.\", 'source': 'https://en.wikipedia.org/wiki/Bangladesh_Liberation_War'}, page_content=\"The Bangladesh Liberation War (Bengali: মুক্তিযুদ্ধ, pronounced [mukt̪iɟud̪d̪ʱo]), also known as the Bangladesh War of Independence, was an armed conflict sparked by the rise of the Bengali nationalist and self-determination movement in East Pakistan, which resulted in the independence of Bangladesh. The war began when the Pakistani military junta based in West Pakistan—under the orders of Yahya Khan—launched Operation Searchlight against East Pakistanis on the night of 25 March 1971, initiating the Bangladesh genocide.\\nIn response to the violence, members of the Mukti Bahini—a guerrilla resistance movement formed by Bengali military, paramilitary and civilians—launched a mass guerrilla war against the Pakistani military, liberating numerous towns and cities in the war's initial months. At first, the Pakistan Army regained momentum during the monsoon, but Bengali guerrillas counterattacked by carrying out widespread sabotage, including through Operation Jackpot against the Pakistan Navy, while the nascent Bangladesh Air Force flew sorties against Pakistani military bases. India joined the war on 3 December 1971 in support of the Mukti Bahini, after Pakistan launched preemptive air strikes on northern India. The subsequent Indo-Pakistani War involved fighting on two fronts; with air supremacy achieved in the eastern theater and the rapid advance of the Allied Forces of Mukti Bahini and the Indian military, Pakistan surrendered in Dhaka on 16 December 1971, in what remains to date the largest surrender of armed personnel since the Second World War.\\nRural and urban areas across East Pakistan saw extensive military operations and air strikes to suppress the tide of civil disobedience that formed after the 1970 election stalemate. The Pakistan Army, backed by Islamists, created radical religious militias—the Razakars, Al-Badr and Al-Shams—to assist it during raids on the local populace. Members of the Pakistani military and supporting militias engaged in mass murder, deportation and genocidal rape, pursuing a systematic campaign of annihilation against nationalist Bengali civilians, students, intelligentsia, religious minorities and armed personnel. The capital, Dhaka, was the scene of numerous massacres, including the Dhaka University massacre. Sectarian violence also broke out between Bengalis and Urdu-speaking Biharis. An estimated 10 million Bengali refugees fled to neighboring India, while 30 million were internally displaced.\\nThe war changed the geopolitical landscape of South Asia, with the emergence of Bangladesh as the world's seventh-most populous country. Due to complex regional alliances, the war was a major episode in Cold War tensions involving the United States, the Soviet Union and China. The majority of member states in the United Nations recognized Bangladesh as a sovereign nation in 1972.\\n\\n\\n== Background ==\\n\\nBefore the Partition of British India, the Lahore Resolution initially envisaged separate Muslim-majority states in British India's eastern and northwestern zones. A proposal for an independent United Bengal was mooted by Prime Minister Huseyn Shaheed Suhrawardy in 1946 but opposed by the colonial authorities. The East Pakistan Renaissance Society advocated the creation of a sovereign state in eastern British India.\\nPolitical negotiations led, in August 1947, to the official birth of two states, Pakistan and India, giving presumably permanent homes for Muslims and Hindus, respectively, after the British departed. The Dominion of Pakistan comprised two geographically and culturally separate areas to the east and the west, with India in between.\\nThe western zone was popularly (and, for a period, also officially) termed West Pakistan and the eastern zone (modern-day Bangladesh) was initially termed East Bengal and later East Pakistan. Although the two zones' population was close to equal, political power was concentrated in West Pakistan, and it was widely perceived that East Pakistan was being exploited economi\")]"
      ]
     },
     "execution_count": 7,
     "metadata": {},
     "output_type": "execute_result"
    }
   ],
   "source": [
    "docs"
   ]
  }
 ],
 "metadata": {
  "kernelspec": {
   "display_name": "venv",
   "language": "python",
   "name": "python3"
  },
  "language_info": {
   "codemirror_mode": {
    "name": "ipython",
    "version": 3
   },
   "file_extension": ".py",
   "mimetype": "text/x-python",
   "name": "python",
   "nbconvert_exporter": "python",
   "pygments_lexer": "ipython3",
   "version": "3.13.3"
  }
 },
 "nbformat": 4,
 "nbformat_minor": 5
}
