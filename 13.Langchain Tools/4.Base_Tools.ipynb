{
 "cells": [
  {
   "cell_type": "code",
   "execution_count": 17,
   "id": "b5bd5a57",
   "metadata": {},
   "outputs": [],
   "source": [
    "from langchain.tools import BaseTool\n",
    "from typing import Type\n",
    "from pydantic import BaseModel, Field"
   ]
  },
  {
   "cell_type": "code",
   "execution_count": 18,
   "id": "13a3d7b0",
   "metadata": {},
   "outputs": [],
   "source": [
    "class MultiplyInput(BaseModel):\n",
    "    \"\"\"Input for multiplication.\"\"\"\n",
    "    x: int = Field(required=True, description=\"The first number to multiply\")\n",
    "    y: int = Field(required=True, description=\"The second number to multiply\")"
   ]
  },
  {
   "cell_type": "code",
   "execution_count": 19,
   "id": "5ede7d81",
   "metadata": {},
   "outputs": [],
   "source": [
    "class MultiplyTool(BaseTool):\n",
    "    name: str = \"multiply\"\n",
    "    description: str = \"Multiply two numbers.\"\n",
    "    args_schema: Type[BaseModel] = MultiplyInput\n",
    "\n",
    "    def _run(self, x: int, y: int) -> int:\n",
    "        \"\"\"Multiply two numbers.\"\"\"\n",
    "        return x * y"
   ]
  },
  {
   "cell_type": "code",
   "execution_count": 20,
   "id": "7f055733",
   "metadata": {},
   "outputs": [],
   "source": [
    "Multiply_tool = MultiplyTool()"
   ]
  },
  {
   "cell_type": "code",
   "execution_count": 21,
   "id": "f9b1f711",
   "metadata": {},
   "outputs": [
    {
     "name": "stdout",
     "output_type": "stream",
     "text": [
      "9\n",
      "multiply\n",
      "Multiply two numbers.\n",
      "<class '__main__.MultiplyInput'>\n"
     ]
    },
    {
     "name": "stderr",
     "output_type": "stream",
     "text": [
      "C:\\Users\\Bd Calling\\AppData\\Local\\Temp\\ipykernel_10028\\3040635378.py:1: RuntimeWarning: coroutine 'MultiplyTool._run' was never awaited\n",
      "  result = Multiply_tool.invoke({'x':3, 'y':3})\n",
      "RuntimeWarning: Enable tracemalloc to get the object allocation traceback\n"
     ]
    }
   ],
   "source": [
    "result = Multiply_tool.invoke({'x':3, 'y':3})\n",
    "\n",
    "print(result)\n",
    "print(Multiply_tool.name)\n",
    "print(Multiply_tool.description)\n",
    "\n",
    "print(Multiply_tool.args_schema)"
   ]
  }
 ],
 "metadata": {
  "kernelspec": {
   "display_name": "venv",
   "language": "python",
   "name": "python3"
  },
  "language_info": {
   "codemirror_mode": {
    "name": "ipython",
    "version": 3
   },
   "file_extension": ".py",
   "mimetype": "text/x-python",
   "name": "python",
   "nbconvert_exporter": "python",
   "pygments_lexer": "ipython3",
   "version": "3.13.3"
  }
 },
 "nbformat": 4,
 "nbformat_minor": 5
}
