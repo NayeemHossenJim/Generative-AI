{
 "cells": [
  {
   "cell_type": "code",
   "execution_count": 9,
   "id": "10d7eb47",
   "metadata": {},
   "outputs": [],
   "source": [
    "import os\n",
    "from dotenv import load_dotenv\n",
    "from langchain.tools import tool\n",
    "from langchain_groq import ChatGroq\n",
    "from langchain_core.messages import HumanMessage\n",
    "load_dotenv()\n",
    "os.environ[\"GROQ_API_KEY\"] = os.getenv(\"GROQ_API_KEY\")"
   ]
  },
  {
   "cell_type": "code",
   "execution_count": 10,
   "id": "d99a1dbc",
   "metadata": {},
   "outputs": [],
   "source": [
    "@tool\n",
    "def multiply_tool(x: int, y: int) -> int:\n",
    "    \"\"\"Multiply two numbers.\"\"\"\n",
    "    return x * y"
   ]
  },
  {
   "cell_type": "code",
   "execution_count": 11,
   "id": "ed13981e",
   "metadata": {},
   "outputs": [
    {
     "data": {
      "text/plain": [
       "{'x': {'title': 'X', 'type': 'integer'},\n",
       " 'y': {'title': 'Y', 'type': 'integer'}}"
      ]
     },
     "execution_count": 11,
     "metadata": {},
     "output_type": "execute_result"
    }
   ],
   "source": [
    "multiply_tool.args"
   ]
  },
  {
   "cell_type": "code",
   "execution_count": 12,
   "id": "cce8abab",
   "metadata": {},
   "outputs": [],
   "source": [
    "LLM = ChatGroq(groq_api_key=os.environ.get(\"GROQ_API_KEY\"), model=\"openai/gpt-oss-120b\", temperature=1.2)\n",
    "LLM_with_tool = LLM.bind_tools([multiply_tool])"
   ]
  },
  {
   "cell_type": "code",
   "execution_count": 13,
   "id": "89161dd4",
   "metadata": {},
   "outputs": [
    {
     "data": {
      "text/plain": [
       "AIMessage(content=\"I'm doing great, thanks for asking! How can I help you today?\", additional_kwargs={'reasoning_content': 'We need to respond. Friendly. No special request.'}, response_metadata={'token_usage': {'completion_tokens': 36, 'prompt_tokens': 125, 'total_tokens': 161, 'completion_time': 0.073367534, 'prompt_time': 0.027477382, 'queue_time': 0.042907028, 'total_time': 0.100844916}, 'model_name': 'openai/gpt-oss-120b', 'system_fingerprint': 'fp_5c888d599f', 'service_tier': 'on_demand', 'finish_reason': 'stop', 'logprobs': None}, id='run--20bd9cd8-dbc6-451b-8025-c008fea66660-0', usage_metadata={'input_tokens': 125, 'output_tokens': 36, 'total_tokens': 161})"
      ]
     },
     "execution_count": 13,
     "metadata": {},
     "output_type": "execute_result"
    }
   ],
   "source": [
    "LLM_with_tool.invoke('Hi how are you')"
   ]
  },
  {
   "cell_type": "code",
   "execution_count": 14,
   "id": "9374c90d",
   "metadata": {},
   "outputs": [],
   "source": [
    "query = HumanMessage('can you multiply 3 with 1000')"
   ]
  }
 ],
 "metadata": {
  "kernelspec": {
   "display_name": "venv",
   "language": "python",
   "name": "python3"
  },
  "language_info": {
   "codemirror_mode": {
    "name": "ipython",
    "version": 3
   },
   "file_extension": ".py",
   "mimetype": "text/x-python",
   "name": "python",
   "nbconvert_exporter": "python",
   "pygments_lexer": "ipython3",
   "version": "3.13.3"
  }
 },
 "nbformat": 4,
 "nbformat_minor": 5
}
