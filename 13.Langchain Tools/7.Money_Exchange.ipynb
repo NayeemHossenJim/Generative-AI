{
 "cells": [
  {
   "cell_type": "code",
   "execution_count": 19,
   "id": "21ab19b1",
   "metadata": {},
   "outputs": [],
   "source": [
    "import os\n",
    "import requests\n",
    "from typing import Annotated\n",
    "from dotenv import load_dotenv\n",
    "from langchain.tools import tool\n",
    "from langchain_groq import ChatGroq\n",
    "from langchain_core.tools import InjectedToolArg\n",
    "from langchain_core.messages import HumanMessage\n"
   ]
  },
  {
   "cell_type": "code",
   "execution_count": 20,
   "id": "6291cab9",
   "metadata": {},
   "outputs": [],
   "source": [
    "load_dotenv()\n",
    "os.environ[\"GROQ_API_KEY\"] = os.getenv(\"GROQ_API_KEY\")"
   ]
  },
  {
   "cell_type": "code",
   "execution_count": 21,
   "id": "e5ff05f1",
   "metadata": {},
   "outputs": [],
   "source": [
    "@tool\n",
    "def get_conversion_factor(base_currency: str, target_currency: str) -> float:\n",
    "  \"\"\"\n",
    "  This function fetches the currency conversion factor between a given base currency and a target currency\n",
    "  \"\"\"\n",
    "  url = f'https://v6.exchangerate-api.com/v6/d5ce7027b03ad3604a72e903/pair/{base_currency}/{target_currency}'\n",
    "\n",
    "  response = requests.get(url)\n",
    "\n",
    "  return response.json()\n",
    "\n",
    "@tool\n",
    "def convert(base_currency_value: int, conversion_rate: Annotated[float, InjectedToolArg]) -> float:\n",
    "  \"\"\"\n",
    "  given a currency conversion rate this function calculates the target currency value from a given base currency value\n",
    "  \"\"\"\n",
    "\n",
    "  return base_currency_value * conversion_rate"
   ]
  },
  {
   "cell_type": "code",
   "execution_count": 22,
   "id": "e361cbdc",
   "metadata": {},
   "outputs": [
    {
     "data": {
      "text/plain": [
       "{'result': 'success',\n",
       " 'documentation': 'https://www.exchangerate-api.com/docs',\n",
       " 'terms_of_use': 'https://www.exchangerate-api.com/terms',\n",
       " 'time_last_update_unix': 1760227202,\n",
       " 'time_last_update_utc': 'Sun, 12 Oct 2025 00:00:02 +0000',\n",
       " 'time_next_update_unix': 1760313602,\n",
       " 'time_next_update_utc': 'Mon, 13 Oct 2025 00:00:02 +0000',\n",
       " 'base_code': 'USD',\n",
       " 'target_code': 'BDT',\n",
       " 'conversion_rate': 121.8002}"
      ]
     },
     "execution_count": 22,
     "metadata": {},
     "output_type": "execute_result"
    }
   ],
   "source": [
    "get_conversion_factor.invoke({'base_currency':'USD','target_currency':'BDT'})"
   ]
  },
  {
   "cell_type": "code",
   "execution_count": 23,
   "id": "1e6e0e74",
   "metadata": {},
   "outputs": [
    {
     "data": {
      "text/plain": [
       "1218.002"
      ]
     },
     "execution_count": 23,
     "metadata": {},
     "output_type": "execute_result"
    }
   ],
   "source": [
    "convert.invoke({'base_currency_value':10, 'conversion_rate':121.8002})"
   ]
  },
  {
   "cell_type": "code",
   "execution_count": 24,
   "id": "2a4408df",
   "metadata": {},
   "outputs": [],
   "source": [
    "LLM = ChatGroq(groq_api_key=os.environ.get(\"GROQ_API_KEY\"), model=\"openai/gpt-oss-120b\", temperature=1.2)\n",
    "LLM_with_tool = LLM.bind_tools([get_conversion_factor, convert])"
   ]
  },
  {
   "cell_type": "code",
   "execution_count": 26,
   "id": "02e5986e",
   "metadata": {},
   "outputs": [],
   "source": [
    "messages = [HumanMessage('What is the conversion factor between BDT and USD, and based on that can you convert 10 BDT to USD?')]"
   ]
  },
  {
   "cell_type": "code",
   "execution_count": 27,
   "id": "ed3f9a52",
   "metadata": {},
   "outputs": [],
   "source": [
    "ai_message = LLM_with_tool.invoke(messages)"
   ]
  },
  {
   "cell_type": "code",
   "execution_count": 28,
   "id": "738cdcd9",
   "metadata": {},
   "outputs": [],
   "source": [
    "messages.append(ai_message)"
   ]
  },
  {
   "cell_type": "code",
   "execution_count": 29,
   "id": "5a3a0738",
   "metadata": {},
   "outputs": [
    {
     "data": {
      "text/plain": [
       "[{'name': 'get_conversion_factor',\n",
       "  'args': {'base_currency': 'BDT', 'target_currency': 'USD'},\n",
       "  'id': 'fc_46e89100-4f1d-471e-ada5-fe44d4767e0c',\n",
       "  'type': 'tool_call'}]"
      ]
     },
     "execution_count": 29,
     "metadata": {},
     "output_type": "execute_result"
    }
   ],
   "source": [
    "ai_message.tool_calls"
   ]
  },
  {
   "cell_type": "code",
   "execution_count": 30,
   "id": "8a81e4b3",
   "metadata": {},
   "outputs": [],
   "source": [
    "import json\n",
    "\n",
    "for tool_call in ai_message.tool_calls:\n",
    "  if tool_call['name'] == 'get_conversion_factor':\n",
    "    tool_message1 = get_conversion_factor.invoke(tool_call)\n",
    "    conversion_rate = json.loads(tool_message1.content)['conversion_rate']\n",
    "    messages.append(tool_message1)\n",
    "  if tool_call['name'] == 'convert':\n",
    "    tool_call['args']['conversion_rate'] = conversion_rate\n",
    "    tool_message2 = convert.invoke(tool_call)\n",
    "    messages.append(tool_message2)"
   ]
  },
  {
   "cell_type": "code",
   "execution_count": 31,
   "id": "3117951f",
   "metadata": {},
   "outputs": [
    {
     "data": {
      "text/plain": [
       "[HumanMessage(content='What is the conversion factor between BDT and USD, and based on that can you convert 10 BDT to USD?', additional_kwargs={}, response_metadata={}),\n",
       " AIMessage(content='', additional_kwargs={'reasoning_content': 'We need to fetch conversion factor between BDT and USD. Use function get_conversion_factor with base_currency \"BDT\", target_currency \"USD\". Then calculate conversion of 10 BDT to USD using convert with base_currency_value 10, but we need to provide the factor? The convert function presumably uses some stored factor? It takes base_currency_value but no factor; maybe it uses a previously fetched factor stored context? Unclear. Likely we need to call get_conversion_factor first, then use convert with base_currency_value 10 and maybe need to specify factor? The description: \"given a currency conversion rate this function calculates the target currency value from a given base currency value\". It takes base_currency_value only, but perhaps it uses the previously fetched factor implicitly? Might need to pass factor as argument? The function signature only has base_currency_value, so perhaps the system internally uses the last fetched factor. We\\'ll call get_conversion_factor, capture result, then call convert.', 'tool_calls': [{'id': 'fc_46e89100-4f1d-471e-ada5-fe44d4767e0c', 'function': {'arguments': '{\"base_currency\":\"BDT\",\"target_currency\":\"USD\"}', 'name': 'get_conversion_factor'}, 'type': 'function'}]}, response_metadata={'token_usage': {'completion_tokens': 234, 'prompt_tokens': 198, 'total_tokens': 432, 'completion_time': 0.473974947, 'prompt_time': 0.0092822, 'queue_time': 0.043335296, 'total_time': 0.483257147}, 'model_name': 'openai/gpt-oss-120b', 'system_fingerprint': 'fp_4913bcd64f', 'service_tier': 'on_demand', 'finish_reason': 'tool_calls', 'logprobs': None}, id='run--97c63274-e884-4c20-a84f-437c169cdc6a-0', tool_calls=[{'name': 'get_conversion_factor', 'args': {'base_currency': 'BDT', 'target_currency': 'USD'}, 'id': 'fc_46e89100-4f1d-471e-ada5-fe44d4767e0c', 'type': 'tool_call'}], usage_metadata={'input_tokens': 198, 'output_tokens': 234, 'total_tokens': 432}),\n",
       " ToolMessage(content='{\"result\": \"success\", \"documentation\": \"https://www.exchangerate-api.com/docs\", \"terms_of_use\": \"https://www.exchangerate-api.com/terms\", \"time_last_update_unix\": 1760227202, \"time_last_update_utc\": \"Sun, 12 Oct 2025 00:00:02 +0000\", \"time_next_update_unix\": 1760313602, \"time_next_update_utc\": \"Mon, 13 Oct 2025 00:00:02 +0000\", \"base_code\": \"BDT\", \"target_code\": \"USD\", \"conversion_rate\": 0.00821}', name='get_conversion_factor', tool_call_id='fc_46e89100-4f1d-471e-ada5-fe44d4767e0c')]"
      ]
     },
     "execution_count": 31,
     "metadata": {},
     "output_type": "execute_result"
    }
   ],
   "source": [
    "messages"
   ]
  },
  {
   "cell_type": "code",
   "execution_count": 32,
   "id": "b3ededb3",
   "metadata": {},
   "outputs": [
    {
     "data": {
      "text/plain": [
       "'The conversion factor from Bangladeshi Taka (BDT) to U.S. Dollars (USD) is **0.00821\\u202fUSD per\\u202fBDT**.\\n\\nTo convert 10\\u202fBDT to USD:\\n\\n\\\\[\\n10 \\\\text{ BDT} \\\\times 0.00821 \\\\frac{\\\\text{USD}}{\\\\text{BDT}} = 0.0821 \\\\text{ USD}\\n\\\\]\\n\\n**So, 10\\u202fBDT ≈\\u202f$0.082\\u202fUSD** (about 8.2\\u202fcents).'"
      ]
     },
     "execution_count": 32,
     "metadata": {},
     "output_type": "execute_result"
    }
   ],
   "source": [
    "LLM_with_tool.invoke(messages).content"
   ]
  },
  {
   "cell_type": "code",
   "execution_count": 35,
   "id": "cf71c38c",
   "metadata": {},
   "outputs": [],
   "source": [
    "from langchain.agents import initialize_agent, AgentType\n",
    "\n",
    "agent_executor = initialize_agent(\n",
    "    tools=[get_conversion_factor, convert],\n",
    "    llm=LLM,\n",
    "    agent=AgentType.STRUCTURED_CHAT_ZERO_SHOT_REACT_DESCRIPTION, \n",
    "    verbose=True \n",
    ")"
   ]
  },
  {
   "cell_type": "code",
   "execution_count": 36,
   "id": "388e4295",
   "metadata": {},
   "outputs": [
    {
     "name": "stdout",
     "output_type": "stream",
     "text": [
      "\n",
      "\n",
      "\u001b[1m> Entering new AgentExecutor chain...\u001b[0m\n",
      "\u001b[32;1m\u001b[1;3mAction:\n",
      "```json\n",
      "{\n",
      "  \"action\": \"Final Answer\",\n",
      "  \"action_input\": \"I'm doing well, thank you! How can I assist you today?\"\n",
      "}\n",
      "```\u001b[0m\n",
      "\n",
      "\u001b[1m> Finished chain.\u001b[0m\n"
     ]
    }
   ],
   "source": [
    "user_query = \"Hi how are you?\"\n",
    "\n",
    "response = agent_executor.invoke({\"input\": user_query})"
   ]
  }
 ],
 "metadata": {
  "kernelspec": {
   "display_name": "venv",
   "language": "python",
   "name": "python3"
  },
  "language_info": {
   "codemirror_mode": {
    "name": "ipython",
    "version": 3
   },
   "file_extension": ".py",
   "mimetype": "text/x-python",
   "name": "python",
   "nbconvert_exporter": "python",
   "pygments_lexer": "ipython3",
   "version": "3.13.3"
  }
 },
 "nbformat": 4,
 "nbformat_minor": 5
}
