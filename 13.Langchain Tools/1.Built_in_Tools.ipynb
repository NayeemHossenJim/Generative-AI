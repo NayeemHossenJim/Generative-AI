{
 "cells": [
  {
   "cell_type": "code",
   "execution_count": 3,
   "id": "cde3a0f3",
   "metadata": {},
   "outputs": [
    {
     "name": "stdout",
     "output_type": "stream",
     "text": [
      "New Delhi: Congress leader Salman Khurshid on Tuesday said what is happening in Bangladesh can happen in the country though “ everything may ... What is happening in Bangladesh ? An on the ground Hindu activist shares his thoughts. ... Bangladeshi activist: There is no international pressure ... Addressing the annual Vijayadashami programme held here today , Bhagwat said What is happening in Bangladesh is also a learning for Hindus in India. We have to watch carefully what is happening in Bangladesh .\" \"We in India, are watching it very carefully because we want a stable neighborhood. As someone who’s seen what happens when the truth is distorted, I know how unfair it feels when those who’ve sacrificed the most lose their voice.\n"
     ]
    }
   ],
   "source": [
    "from langchain_community.tools import DuckDuckGoSearchRun\n",
    "\n",
    "search_tool = DuckDuckGoSearchRun()\n",
    "\n",
    "results = search_tool.invoke('What is happening in Bangladesh today')\n",
    "\n",
    "print(results)"
   ]
  },
  {
   "cell_type": "code",
   "execution_count": 5,
   "id": "6fc30867",
   "metadata": {},
   "outputs": [
    {
     "name": "stdout",
     "output_type": "stream",
     "text": [
      "Executing command:\n",
      " tree\n",
      "Folder PATH listing\n",
      "Volume serial number is 7016-EF66\n",
      "C:.\n",
      "No subfolders exist \n",
      "\n",
      "\n"
     ]
    },
    {
     "name": "stderr",
     "output_type": "stream",
     "text": [
      "c:\\Generative-AI\\venv\\Lib\\site-packages\\langchain_community\\tools\\shell\\tool.py:33: UserWarning: The shell tool has no safeguards by default. Use at your own risk.\n",
      "  warnings.warn(\n"
     ]
    }
   ],
   "source": [
    "from langchain_community.tools import ShellTool\n",
    "\n",
    "shell_tool = ShellTool()\n",
    "\n",
    "results = shell_tool.invoke('tree')\n",
    "\n",
    "print(results)"
   ]
  }
 ],
 "metadata": {
  "kernelspec": {
   "display_name": "venv",
   "language": "python",
   "name": "python3"
  },
  "language_info": {
   "codemirror_mode": {
    "name": "ipython",
    "version": 3
   },
   "file_extension": ".py",
   "mimetype": "text/x-python",
   "name": "python",
   "nbconvert_exporter": "python",
   "pygments_lexer": "ipython3",
   "version": "3.13.3"
  }
 },
 "nbformat": 4,
 "nbformat_minor": 5
}
